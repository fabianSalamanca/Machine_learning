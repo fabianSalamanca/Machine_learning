{
  "nbformat": 4,
  "nbformat_minor": 0,
  "metadata": {
    "colab": {
      "name": "P1T1_python_basic.ipynb",
      "provenance": [],
      "collapsed_sections": []
    },
    "kernelspec": {
      "name": "python3",
      "display_name": "Python 3"
    },
    "language_info": {
      "name": "python"
    }
  },
  "cells": [
    {
      "cell_type": "markdown",
      "source": [
        "Python inicio\n",
        "* @Autor:Fabian Salamanca\n",
        "* @Date:18/02/2022\n",
        "* @description:python project\n",
        "starting with the basics"
      ],
      "metadata": {
        "id": "dPQ4iCy-Ict5"
      }
    },
    {
      "cell_type": "code",
      "source": [
        "N1= int(input(\"Ingrese el 1° número:\"))\n",
        "N2= int(input(\"Ingrese el 2° número:\"))\n",
        "N3= int(input(\"Ingrese el 3° número:\"))\n",
        "if (N1>N2 and N1>N3):\n",
        "  print(\"número mayor :\"+str(N1))\n",
        "elif(N2>N1 and N2>N3):\n",
        "  print(\"número mayor :\"+str(N2))\n",
        "else:\n",
        "  print(\"número mayor :\"+str(N3))\n",
        "\n"
      ],
      "metadata": {
        "colab": {
          "base_uri": "https://localhost:8080/"
        },
        "id": "Ca6MLUkQmw_u",
        "outputId": "93aadf18-c670-40c4-c111-13ad3dc0c342"
      },
      "execution_count": null,
      "outputs": [
        {
          "output_type": "stream",
          "name": "stdout",
          "text": [
            "Ingrese el 1° número:5\n",
            "Ingrese el 2° número:6\n",
            "Ingrese el 3° número:8\n",
            "número mayor :8\n"
          ]
        }
      ]
    },
    {
      "cell_type": "code",
      "source": [
        "N1,N2, N3 = input (\"ingrese los 3 numéros separados por coma:\").split(\",\")\n",
        "print(\"El mayor es:\"+str(max(int(N1),int(N2),int(N3))))"
      ],
      "metadata": {
        "colab": {
          "base_uri": "https://localhost:8080/"
        },
        "id": "BXKFuX_k7U9m",
        "outputId": "92f954ff-a31b-4016-af76-2881d689e2a1"
      },
      "execution_count": null,
      "outputs": [
        {
          "output_type": "stream",
          "name": "stdout",
          "text": [
            "ingrese los 3 numéros separados por coma:4,4,4\n",
            "El mayor es:4\n"
          ]
        }
      ]
    },
    {
      "cell_type": "code",
      "source": [
        "numeros=[2,3,4,7,3,9,3,0,1,4,7]\n",
        "numeros.sort()\n",
        "print(\"M a m\",numeros)"
      ],
      "metadata": {
        "colab": {
          "base_uri": "https://localhost:8080/"
        },
        "id": "7HIu56VM9_5F",
        "outputId": "b6b12907-85c8-4e4a-dcc4-8c1043196349"
      },
      "execution_count": null,
      "outputs": [
        {
          "output_type": "stream",
          "name": "stdout",
          "text": [
            "M a m [0, 1, 2, 3, 3, 3, 4, 4, 7, 7, 9]\n"
          ]
        }
      ]
    },
    {
      "cell_type": "code",
      "source": [
        "suma=0\n",
        "for i in range(0, int(input(\"Ingrese la cantidad de números: \"))):\n",
        "  suma+=int(input(\"ingrese el valor del num \"+str(i)+\": \"))\n",
        "print(\"El total es: \"+str(suma))"
      ],
      "metadata": {
        "colab": {
          "base_uri": "https://localhost:8080/"
        },
        "id": "lKsNg4HO6z9f",
        "outputId": "40d28c20-a312-461f-f53c-ddf07844c30f"
      },
      "execution_count": null,
      "outputs": [
        {
          "output_type": "stream",
          "name": "stdout",
          "text": [
            "Ingrese la cantidad de números: 4\n",
            "ingrese el valor del num 0: 4\n",
            "ingrese el valor del num 1: 8\n",
            "ingrese el valor del num 2: 8\n",
            "ingrese el valor del num 3: 2\n",
            "El total es: 22\n"
          ]
        }
      ]
    },
    {
      "cell_type": "code",
      "source": [
        "for i in range(int(input(\"Número minimo: \")),int(input(\"Número final: \"))):\n",
        "    if( (i%2)==0 ): print(\"El número par :\" + str(i))"
      ],
      "metadata": {
        "colab": {
          "base_uri": "https://localhost:8080/"
        },
        "id": "K2Fmh-Ag9fWD",
        "outputId": "db3fad98-dfab-48f4-baf1-d29e59809a71"
      },
      "execution_count": null,
      "outputs": [
        {
          "output_type": "stream",
          "name": "stdout",
          "text": [
            "Número minimo: 2\n",
            "Número final: 9\n",
            "El número par :2\n",
            "El número par :4\n",
            "El número par :6\n",
            "El número par :8\n"
          ]
        }
      ]
    },
    {
      "cell_type": "code",
      "source": [
        "lista = list(range(1,12))\n",
        "print(lista+lista[::-1])"
      ],
      "metadata": {
        "colab": {
          "base_uri": "https://localhost:8080/"
        },
        "id": "Enkq6jVrJO83",
        "outputId": "0962a3d1-d197-4c69-ec10-370c06311074"
      },
      "execution_count": null,
      "outputs": [
        {
          "output_type": "stream",
          "name": "stdout",
          "text": [
            "[1, 2, 3, 4, 5, 6, 7, 8, 9, 10, 11, 11, 10, 9, 8, 7, 6, 5, 4, 3, 2, 1]\n"
          ]
        }
      ]
    },
    {
      "cell_type": "code",
      "source": [
        "import random\n",
        "for i in range(10): print(random.randrange(50))"
      ],
      "metadata": {
        "colab": {
          "base_uri": "https://localhost:8080/"
        },
        "id": "N4fBHQn9JVeM",
        "outputId": "be5da8da-7ea6-4173-81aa-0fbf10aee95c"
      },
      "execution_count": null,
      "outputs": [
        {
          "output_type": "stream",
          "name": "stdout",
          "text": [
            "31\n",
            "47\n",
            "40\n",
            "11\n",
            "8\n",
            "8\n",
            "28\n",
            "5\n",
            "13\n",
            "19\n"
          ]
        }
      ]
    },
    {
      "cell_type": "code",
      "source": [
        "import numpy as np\n",
        "from random import randint\n",
        "matriz = np.array([[i+1, randint(10000,70000)] \n",
        "for i in range(10)])\n",
        "print(matriz)"
      ],
      "metadata": {
        "colab": {
          "base_uri": "https://localhost:8080/"
        },
        "id": "vsu87DZrJWtB",
        "outputId": "42ff118a-24ae-48da-e004-89a9ddd1e71e"
      },
      "execution_count": null,
      "outputs": [
        {
          "output_type": "stream",
          "name": "stdout",
          "text": [
            "[[    1 60654]\n",
            " [    2 25263]\n",
            " [    3 41653]\n",
            " [    4 17703]\n",
            " [    5 63993]\n",
            " [    6 31598]\n",
            " [    7 25922]\n",
            " [    8 40136]\n",
            " [    9 46102]\n",
            " [   10 40290]]\n"
          ]
        }
      ]
    },
    {
      "cell_type": "code",
      "source": [
        ""
      ],
      "metadata": {
        "id": "ybGgozhvJ4EU"
      },
      "execution_count": null,
      "outputs": []
    }
  ]
}
